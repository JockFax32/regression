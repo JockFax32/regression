{
 "cells": [
  {
   "cell_type": "markdown",
   "metadata": {},
   "source": [
    "# Does faculty salary vary by gender and/or rank?"
   ]
  },
  {
   "cell_type": "markdown",
   "metadata": {},
   "source": [
    "## Set up\n",
    "\n",
    "Before getting started, the only addtional library you should have to install (that did not come with the anaconda python distribution) is `seaborn`, a package for visualization:\n",
    "\n",
    "```\n",
    "pip install seaborn\n",
    "```\n",
    "\n",
    "Let's begin by reading in some data from [this course website](http://data.princeton.edu/wws509/datasets/#salary). Columns included are:\n",
    "\n",
    "- **sx** = Sex, coded 1 for female and 0 for male\n",
    "- **rk** = Rank, coded\n",
    "    - 1 for assistant professor,\n",
    "    - 2 for associate professor, and\n",
    "    - 3 for full professor\n",
    "- **yr** = Number of years in current rank\n",
    "- **dg** = Highest degree, coded 1 if doctorate, 0 if masters\n",
    "- **yd** = Number of years since highest degree was earned\n",
    "- **sl** = Academic year salary, in dollars.\n",
    "\n",
    "Before performing the statistical analysis here, you should run the `exploratory-analysis` file to get to know your data."
   ]
  },
  {
   "cell_type": "code",
   "execution_count": 3,
   "metadata": {
    "collapsed": false
   },
   "outputs": [],
   "source": [
    "# Set up\n",
    "import numpy as np\n",
    "import pandas as pd\n",
    "import seaborn as sns # for visualiation\n",
    "import urllib2 # to load data\n",
    "from scipy.stats import ttest_ind # t-tests\n",
    "import statsmodels.formula.api as smf # linear modeling\n",
    "import matplotlib.pyplot as plt # plotting\n",
    "import matplotlib\n",
    "matplotlib.style.use('ggplot')\n",
    "%matplotlib inline "
   ]
  },
  {
   "cell_type": "code",
   "execution_count": 14,
   "metadata": {
    "collapsed": false
   },
   "outputs": [],
   "source": [
    "# Read data from URL\n",
    "file = urllib2.urlopen('http://data.princeton.edu/wws509/datasets/salary.dat')\n",
    "headers = file.next()\n",
    "df = pd.DataFrame(l.rstrip().split() for l in file)\n",
    "df.columns = headers.rstrip().split()\n",
    "df['sl'] = df['sl'].astype(float) # Make sure salary is float\n",
    "df['yr'] = df['yr'].astype(int) # Make sure year is int is float\n",
    "df['yd'] = df['yd'].astype(int) # Make sure salary is float"
   ]
  },
  {
   "cell_type": "markdown",
   "metadata": {},
   "source": [
    "## Simple linear regression: what is the salary increase associated with each additional year in your current position (`yr`)?"
   ]
  },
  {
   "cell_type": "code",
   "execution_count": 15,
   "metadata": {
    "collapsed": false
   },
   "outputs": [
    {
     "data": {
      "text/html": [
       "<table class=\"simpletable\">\n",
       "<caption>OLS Regression Results</caption>\n",
       "<tr>\n",
       "  <th>Dep. Variable:</th>           <td>sl</td>        <th>  R-squared:         </th> <td>   0.491</td>\n",
       "</tr>\n",
       "<tr>\n",
       "  <th>Model:</th>                   <td>OLS</td>       <th>  Adj. R-squared:    </th> <td>   0.481</td>\n",
       "</tr>\n",
       "<tr>\n",
       "  <th>Method:</th>             <td>Least Squares</td>  <th>  F-statistic:       </th> <td>   48.22</td>\n",
       "</tr>\n",
       "<tr>\n",
       "  <th>Date:</th>             <td>Tue, 07 Feb 2017</td> <th>  Prob (F-statistic):</th> <td>7.34e-09</td>\n",
       "</tr>\n",
       "<tr>\n",
       "  <th>Time:</th>                 <td>10:10:08</td>     <th>  Log-Likelihood:    </th> <td> -507.38</td>\n",
       "</tr>\n",
       "<tr>\n",
       "  <th>No. Observations:</th>      <td>    52</td>      <th>  AIC:               </th> <td>   1019.</td>\n",
       "</tr>\n",
       "<tr>\n",
       "  <th>Df Residuals:</th>          <td>    50</td>      <th>  BIC:               </th> <td>   1023.</td>\n",
       "</tr>\n",
       "<tr>\n",
       "  <th>Df Model:</th>              <td>     1</td>      <th>                     </th>     <td> </td>   \n",
       "</tr>\n",
       "<tr>\n",
       "  <th>Covariance Type:</th>      <td>nonrobust</td>    <th>                     </th>     <td> </td>   \n",
       "</tr>\n",
       "</table>\n",
       "<table class=\"simpletable\">\n",
       "<tr>\n",
       "      <td></td>         <th>coef</th>     <th>std err</th>      <th>t</th>      <th>P>|t|</th> <th>[95.0% Conf. Int.]</th> \n",
       "</tr>\n",
       "<tr>\n",
       "  <th>Intercept</th> <td> 1.817e+04</td> <td> 1003.658</td> <td>   18.100</td> <td> 0.000</td> <td> 1.62e+04  2.02e+04</td>\n",
       "</tr>\n",
       "<tr>\n",
       "  <th>yr</th>        <td>  752.7978</td> <td>  108.409</td> <td>    6.944</td> <td> 0.000</td> <td>  535.051   970.544</td>\n",
       "</tr>\n",
       "</table>\n",
       "<table class=\"simpletable\">\n",
       "<tr>\n",
       "  <th>Omnibus:</th>       <td> 5.716</td> <th>  Durbin-Watson:     </th> <td>   1.430</td>\n",
       "</tr>\n",
       "<tr>\n",
       "  <th>Prob(Omnibus):</th> <td> 0.057</td> <th>  Jarque-Bera (JB):  </th> <td>   5.015</td>\n",
       "</tr>\n",
       "<tr>\n",
       "  <th>Skew:</th>          <td> 0.509</td> <th>  Prob(JB):          </th> <td>  0.0815</td>\n",
       "</tr>\n",
       "<tr>\n",
       "  <th>Kurtosis:</th>      <td> 4.130</td> <th>  Cond. No.          </th> <td>    15.8</td>\n",
       "</tr>\n",
       "</table>"
      ],
      "text/plain": [
       "<class 'statsmodels.iolib.summary.Summary'>\n",
       "\"\"\"\n",
       "                            OLS Regression Results                            \n",
       "==============================================================================\n",
       "Dep. Variable:                     sl   R-squared:                       0.491\n",
       "Model:                            OLS   Adj. R-squared:                  0.481\n",
       "Method:                 Least Squares   F-statistic:                     48.22\n",
       "Date:                Tue, 07 Feb 2017   Prob (F-statistic):           7.34e-09\n",
       "Time:                        10:10:08   Log-Likelihood:                -507.38\n",
       "No. Observations:                  52   AIC:                             1019.\n",
       "Df Residuals:                      50   BIC:                             1023.\n",
       "Df Model:                           1                                         \n",
       "Covariance Type:            nonrobust                                         \n",
       "==============================================================================\n",
       "                 coef    std err          t      P>|t|      [95.0% Conf. Int.]\n",
       "------------------------------------------------------------------------------\n",
       "Intercept   1.817e+04   1003.658     18.100      0.000      1.62e+04  2.02e+04\n",
       "yr           752.7978    108.409      6.944      0.000       535.051   970.544\n",
       "==============================================================================\n",
       "Omnibus:                        5.716   Durbin-Watson:                   1.430\n",
       "Prob(Omnibus):                  0.057   Jarque-Bera (JB):                5.015\n",
       "Skew:                           0.509   Prob(JB):                       0.0815\n",
       "Kurtosis:                       4.130   Cond. No.                         15.8\n",
       "==============================================================================\n",
       "\n",
       "Warnings:\n",
       "[1] Standard Errors assume that the covariance matrix of the errors is correctly specified.\n",
       "\"\"\""
      ]
     },
     "execution_count": 15,
     "metadata": {},
     "output_type": "execute_result"
    }
   ],
   "source": [
    "# Create a simple linear model that assesses the relationship between years in current position with salary\n",
    "lm = smf.ols(formula='sl ~ yr', data=df).fit()\n",
    "lm.summary()"
   ]
  },
  {
   "cell_type": "markdown",
   "metadata": {},
   "source": [
    "Assess the fit of your model:\n",
    "\n",
    "- Describe the _accuracy of your coefficient estimates_. What are your interpretations of the **betas**, their **standard errors**, and their **confidence intervals** for your model?\n",
    "- Describe the _accuracy of your model_. What is your interpretation of the **R-squared** value?"
   ]
  },
  {
   "cell_type": "code",
   "execution_count": 16,
   "metadata": {
    "collapsed": false
   },
   "outputs": [],
   "source": [
    "# Make predictions using the linear model\n",
    "df['predictions'] = lm.predict()"
   ]
  },
  {
   "cell_type": "code",
   "execution_count": 17,
   "metadata": {
    "collapsed": false
   },
   "outputs": [
    {
     "data": {
      "image/png": "[encoded data removed]",
      "text/plain": [
       "<matplotlib.figure.Figure at 0x1170ea290>"
      ]
     },
     "metadata": {},
     "output_type": "display_data"
    }
   ],
   "source": [
    "# Draw a scatterplot with your best fit line to show how well the model fits our data\n",
    "plt.scatter(df.yr, df.sl)\n",
    "plt.plot(df.yr, df.predictions)\n",
    "plt.show()"
   ]
  },
  {
   "cell_type": "markdown",
   "metadata": {},
   "source": [
    "## Multiple Regression"
   ]
  },
  {
   "cell_type": "markdown",
   "metadata": {},
   "source": [
    "Predict using **multiple** independent variables"
   ]
  },
  {
   "cell_type": "code",
   "execution_count": 18,
   "metadata": {
    "collapsed": false
   },
   "outputs": [
    {
     "data": {
      "text/html": [
       "<table class=\"simpletable\">\n",
       "<caption>OLS Regression Results</caption>\n",
       "<tr>\n",
       "  <th>Dep. Variable:</th>           <td>sl</td>        <th>  R-squared:         </th> <td>   0.855</td>\n",
       "</tr>\n",
       "<tr>\n",
       "  <th>Model:</th>                   <td>OLS</td>       <th>  Adj. R-squared:    </th> <td>   0.836</td>\n",
       "</tr>\n",
       "<tr>\n",
       "  <th>Method:</th>             <td>Least Squares</td>  <th>  F-statistic:       </th> <td>   44.24</td>\n",
       "</tr>\n",
       "<tr>\n",
       "  <th>Date:</th>             <td>Tue, 07 Feb 2017</td> <th>  Prob (F-statistic):</th> <td>2.87e-17</td>\n",
       "</tr>\n",
       "<tr>\n",
       "  <th>Time:</th>                 <td>10:10:10</td>     <th>  Log-Likelihood:    </th> <td> -474.72</td>\n",
       "</tr>\n",
       "<tr>\n",
       "  <th>No. Observations:</th>      <td>    52</td>      <th>  AIC:               </th> <td>   963.4</td>\n",
       "</tr>\n",
       "<tr>\n",
       "  <th>Df Residuals:</th>          <td>    45</td>      <th>  BIC:               </th> <td>   977.1</td>\n",
       "</tr>\n",
       "<tr>\n",
       "  <th>Df Model:</th>              <td>     6</td>      <th>                     </th>     <td> </td>   \n",
       "</tr>\n",
       "<tr>\n",
       "  <th>Covariance Type:</th>      <td>nonrobust</td>    <th>                     </th>     <td> </td>   \n",
       "</tr>\n",
       "</table>\n",
       "<table class=\"simpletable\">\n",
       "<tr>\n",
       "         <td></td>            <th>coef</th>     <th>std err</th>      <th>t</th>      <th>P>|t|</th> <th>[95.0% Conf. Int.]</th> \n",
       "</tr>\n",
       "<tr>\n",
       "  <th>Intercept</th>       <td> 1.691e+04</td> <td>  816.442</td> <td>   20.715</td> <td> 0.000</td> <td> 1.53e+04  1.86e+04</td>\n",
       "</tr>\n",
       "<tr>\n",
       "  <th>sx[T.male]</th>      <td>-1166.3731</td> <td>  925.569</td> <td>   -1.260</td> <td> 0.214</td> <td>-3030.565   697.818</td>\n",
       "</tr>\n",
       "<tr>\n",
       "  <th>rk[T.associate]</th> <td> 5292.3608</td> <td> 1145.398</td> <td>    4.621</td> <td> 0.000</td> <td> 2985.411  7599.311</td>\n",
       "</tr>\n",
       "<tr>\n",
       "  <th>rk[T.full]</th>      <td> 1.112e+04</td> <td> 1351.772</td> <td>    8.225</td> <td> 0.000</td> <td> 8396.155  1.38e+04</td>\n",
       "</tr>\n",
       "<tr>\n",
       "  <th>dg[T.masters]</th>   <td> 1388.6133</td> <td> 1018.747</td> <td>    1.363</td> <td> 0.180</td> <td> -663.248  3440.475</td>\n",
       "</tr>\n",
       "<tr>\n",
       "  <th>yd</th>              <td> -124.5743</td> <td>   77.486</td> <td>   -1.608</td> <td> 0.115</td> <td> -280.640    31.491</td>\n",
       "</tr>\n",
       "<tr>\n",
       "  <th>yr</th>              <td>  476.3090</td> <td>   94.914</td> <td>    5.018</td> <td> 0.000</td> <td>  285.143   667.475</td>\n",
       "</tr>\n",
       "</table>\n",
       "<table class=\"simpletable\">\n",
       "<tr>\n",
       "  <th>Omnibus:</th>       <td>26.102</td> <th>  Durbin-Watson:     </th> <td>   1.742</td>\n",
       "</tr>\n",
       "<tr>\n",
       "  <th>Prob(Omnibus):</th> <td> 0.000</td> <th>  Jarque-Bera (JB):  </th> <td>  54.617</td>\n",
       "</tr>\n",
       "<tr>\n",
       "  <th>Skew:</th>          <td> 1.462</td> <th>  Prob(JB):          </th> <td>1.38e-12</td>\n",
       "</tr>\n",
       "<tr>\n",
       "  <th>Kurtosis:</th>      <td> 7.082</td> <th>  Cond. No.          </th> <td>    111.</td>\n",
       "</tr>\n",
       "</table>"
      ],
      "text/plain": [
       "<class 'statsmodels.iolib.summary.Summary'>\n",
       "\"\"\"\n",
       "                            OLS Regression Results                            \n",
       "==============================================================================\n",
       "Dep. Variable:                     sl   R-squared:                       0.855\n",
       "Model:                            OLS   Adj. R-squared:                  0.836\n",
       "Method:                 Least Squares   F-statistic:                     44.24\n",
       "Date:                Tue, 07 Feb 2017   Prob (F-statistic):           2.87e-17\n",
       "Time:                        10:10:10   Log-Likelihood:                -474.72\n",
       "No. Observations:                  52   AIC:                             963.4\n",
       "Df Residuals:                      45   BIC:                             977.1\n",
       "Df Model:                           6                                         \n",
       "Covariance Type:            nonrobust                                         \n",
       "===================================================================================\n",
       "                      coef    std err          t      P>|t|      [95.0% Conf. Int.]\n",
       "-----------------------------------------------------------------------------------\n",
       "Intercept        1.691e+04    816.442     20.715      0.000      1.53e+04  1.86e+04\n",
       "sx[T.male]      -1166.3731    925.569     -1.260      0.214     -3030.565   697.818\n",
       "rk[T.associate]  5292.3608   1145.398      4.621      0.000      2985.411  7599.311\n",
       "rk[T.full]       1.112e+04   1351.772      8.225      0.000      8396.155  1.38e+04\n",
       "dg[T.masters]    1388.6133   1018.747      1.363      0.180      -663.248  3440.475\n",
       "yd               -124.5743     77.486     -1.608      0.115      -280.640    31.491\n",
       "yr                476.3090     94.914      5.018      0.000       285.143   667.475\n",
       "==============================================================================\n",
       "Omnibus:                       26.102   Durbin-Watson:                   1.742\n",
       "Prob(Omnibus):                  0.000   Jarque-Bera (JB):               54.617\n",
       "Skew:                           1.462   Prob(JB):                     1.38e-12\n",
       "Kurtosis:                       7.082   Cond. No.                         111.\n",
       "==============================================================================\n",
       "\n",
       "Warnings:\n",
       "[1] Standard Errors assume that the covariance matrix of the errors is correctly specified.\n",
       "\"\"\""
      ]
     },
     "execution_count": 18,
     "metadata": {},
     "output_type": "execute_result"
    }
   ],
   "source": [
    "# Using multiple regression, create a linear model that uses *all* variables to estimate salary\n",
    "lm_mult = smf.ols(formula='sl ~ yd + sx + rk + yr + dg', data=df).fit()\n",
    "lm_mult.summary()"
   ]
  },
  {
   "cell_type": "markdown",
   "metadata": {},
   "source": [
    "Assess the fit of your model:\n",
    "\n",
    "- Describe the _accuracy of your coefficient estimates_. What are your interpretations of the **betas**, their **standard errors**, and their **confidence intervals** for your model?\n",
    "- Describe the _accuracy of your model_. What is your interpretation of the **R-squared** value?"
   ]
  },
  {
   "cell_type": "code",
   "execution_count": 19,
   "metadata": {
    "collapsed": true
   },
   "outputs": [],
   "source": [
    "# Create predictions using this model\n",
    "df['mult_preds'] = lm_mult.predict()"
   ]
  },
  {
   "cell_type": "code",
   "execution_count": 20,
   "metadata": {
    "collapsed": false
   },
   "outputs": [
    {
     "data": {
      "text/plain": [
       "<matplotlib.collections.PathCollection at 0x11b9a7f50>"
      ]
     },
     "execution_count": 20,
     "metadata": {},
     "output_type": "execute_result"
    },
    {
     "data": {
      "image/png": "[encoded data removed]",
      "text/plain": [
       "<matplotlib.figure.Figure at 0x1170e2b10>"
      ]
     },
     "metadata": {},
     "output_type": "display_data"
    }
   ],
   "source": [
    "# How do our predictions compare to your earlier predications?\n",
    "plt.scatter(df.predictions, df.mult_preds)"
   ]
  },
  {
   "cell_type": "code",
   "execution_count": 21,
   "metadata": {
    "collapsed": false
   },
   "outputs": [
    {
     "data": {
      "image/png": "[encoded data removed]",
      "text/plain": [
       "<matplotlib.figure.Figure at 0x117148dd0>"
      ]
     },
     "metadata": {},
     "output_type": "display_data"
    }
   ],
   "source": [
    "# Visually compare predictions over year\n",
    "plt.scatter(df.yr, df.sl)\n",
    "plt.scatter(df.yr, df.mult_preds, color='red')\n",
    "plt.show()"
   ]
  },
  {
   "cell_type": "markdown",
   "metadata": {},
   "source": [
    "## Compare models"
   ]
  },
  {
   "cell_type": "code",
   "execution_count": 22,
   "metadata": {
    "collapsed": false
   },
   "outputs": [
    {
     "data": {
      "image/png": "[encoded data removed]",
      "text/plain": [
       "<matplotlib.figure.Figure at 0x11b9c6910>"
      ]
     },
     "metadata": {},
     "output_type": "display_data"
    }
   ],
   "source": [
    "# Compare predictions to observations\n",
    "plt.scatter(df.mult_preds, df.sl)\n",
    "plt.plot(df.sl, df.sl)\n",
    "plt.show()"
   ]
  },
  {
   "cell_type": "code",
   "execution_count": 23,
   "metadata": {
    "collapsed": false
   },
   "outputs": [
    {
     "name": "stdout",
     "output_type": "stream",
     "text": [
      "(0.49093702676921624, 0.85504057972251624)\n"
     ]
    }
   ],
   "source": [
    "# What are the r-squared values of the models?\n",
    "print(lm.rsquared, lm_mult.rsquared) # explain the same amount of variance?"
   ]
  },
  {
   "cell_type": "markdown",
   "metadata": {},
   "source": [
    "## Predicting salary with only years since degree and sex"
   ]
  },
  {
   "cell_type": "code",
   "execution_count": 24,
   "metadata": {
    "collapsed": false
   },
   "outputs": [
    {
     "data": {
      "text/html": [
       "<table class=\"simpletable\">\n",
       "<caption>OLS Regression Results</caption>\n",
       "<tr>\n",
       "  <th>Dep. Variable:</th>           <td>sl</td>        <th>  R-squared:         </th> <td>   0.493</td>\n",
       "</tr>\n",
       "<tr>\n",
       "  <th>Model:</th>                   <td>OLS</td>       <th>  Adj. R-squared:    </th> <td>   0.472</td>\n",
       "</tr>\n",
       "<tr>\n",
       "  <th>Method:</th>             <td>Least Squares</td>  <th>  F-statistic:       </th> <td>   23.83</td>\n",
       "</tr>\n",
       "<tr>\n",
       "  <th>Date:</th>             <td>Tue, 07 Feb 2017</td> <th>  Prob (F-statistic):</th> <td>5.91e-08</td>\n",
       "</tr>\n",
       "<tr>\n",
       "  <th>Time:</th>                 <td>10:10:16</td>     <th>  Log-Likelihood:    </th> <td> -507.27</td>\n",
       "</tr>\n",
       "<tr>\n",
       "  <th>No. Observations:</th>      <td>    52</td>      <th>  AIC:               </th> <td>   1021.</td>\n",
       "</tr>\n",
       "<tr>\n",
       "  <th>Df Residuals:</th>          <td>    49</td>      <th>  BIC:               </th> <td>   1026.</td>\n",
       "</tr>\n",
       "<tr>\n",
       "  <th>Df Model:</th>              <td>     2</td>      <th>                     </th>     <td> </td>   \n",
       "</tr>\n",
       "<tr>\n",
       "  <th>Covariance Type:</th>      <td>nonrobust</td>    <th>                     </th>     <td> </td>   \n",
       "</tr>\n",
       "</table>\n",
       "<table class=\"simpletable\">\n",
       "<tr>\n",
       "       <td></td>         <th>coef</th>     <th>std err</th>      <th>t</th>      <th>P>|t|</th> <th>[95.0% Conf. Int.]</th> \n",
       "</tr>\n",
       "<tr>\n",
       "  <th>Intercept</th>  <td> 1.578e+04</td> <td> 1438.330</td> <td>   10.973</td> <td> 0.000</td> <td> 1.29e+04  1.87e+04</td>\n",
       "</tr>\n",
       "<tr>\n",
       "  <th>sx[T.male]</th> <td> 2572.5343</td> <td> 1349.082</td> <td>    1.907</td> <td> 0.062</td> <td> -138.548  5283.616</td>\n",
       "</tr>\n",
       "<tr>\n",
       "  <th>yd</th>         <td>  380.6938</td> <td>   59.109</td> <td>    6.440</td> <td> 0.000</td> <td>  261.909   499.479</td>\n",
       "</tr>\n",
       "</table>\n",
       "<table class=\"simpletable\">\n",
       "<tr>\n",
       "  <th>Omnibus:</th>       <td> 3.822</td> <th>  Durbin-Watson:     </th> <td>   1.283</td>\n",
       "</tr>\n",
       "<tr>\n",
       "  <th>Prob(Omnibus):</th> <td> 0.148</td> <th>  Jarque-Bera (JB):  </th> <td>   2.919</td>\n",
       "</tr>\n",
       "<tr>\n",
       "  <th>Skew:</th>          <td> 0.368</td> <th>  Prob(JB):          </th> <td>   0.232</td>\n",
       "</tr>\n",
       "<tr>\n",
       "  <th>Kurtosis:</th>      <td> 3.897</td> <th>  Cond. No.          </th> <td>    56.9</td>\n",
       "</tr>\n",
       "</table>"
      ],
      "text/plain": [
       "<class 'statsmodels.iolib.summary.Summary'>\n",
       "\"\"\"\n",
       "                            OLS Regression Results                            \n",
       "==============================================================================\n",
       "Dep. Variable:                     sl   R-squared:                       0.493\n",
       "Model:                            OLS   Adj. R-squared:                  0.472\n",
       "Method:                 Least Squares   F-statistic:                     23.83\n",
       "Date:                Tue, 07 Feb 2017   Prob (F-statistic):           5.91e-08\n",
       "Time:                        10:10:16   Log-Likelihood:                -507.27\n",
       "No. Observations:                  52   AIC:                             1021.\n",
       "Df Residuals:                      49   BIC:                             1026.\n",
       "Df Model:                           2                                         \n",
       "Covariance Type:            nonrobust                                         \n",
       "==============================================================================\n",
       "                 coef    std err          t      P>|t|      [95.0% Conf. Int.]\n",
       "------------------------------------------------------------------------------\n",
       "Intercept   1.578e+04   1438.330     10.973      0.000      1.29e+04  1.87e+04\n",
       "sx[T.male]  2572.5343   1349.082      1.907      0.062      -138.548  5283.616\n",
       "yd           380.6938     59.109      6.440      0.000       261.909   499.479\n",
       "==============================================================================\n",
       "Omnibus:                        3.822   Durbin-Watson:                   1.283\n",
       "Prob(Omnibus):                  0.148   Jarque-Bera (JB):                2.919\n",
       "Skew:                           0.368   Prob(JB):                        0.232\n",
       "Kurtosis:                       3.897   Cond. No.                         56.9\n",
       "==============================================================================\n",
       "\n",
       "Warnings:\n",
       "[1] Standard Errors assume that the covariance matrix of the errors is correctly specified.\n",
       "\"\"\""
      ]
     },
     "execution_count": 24,
     "metadata": {},
     "output_type": "execute_result"
    }
   ],
   "source": [
    "# Let's add a model that's just sex and years since graduation\n",
    "lm_mult_sex_only = smf.ols(formula='sl ~ yd + sx', data=df).fit()\n",
    "lm_mult_sex_only.summary()"
   ]
  },
  {
   "cell_type": "code",
   "execution_count": 25,
   "metadata": {
    "collapsed": false
   },
   "outputs": [
    {
     "name": "stdout",
     "output_type": "stream",
     "text": [
      "(0.49093702676921624, 0.49304792719667834)\n"
     ]
    }
   ],
   "source": [
    "print(lm.rsquared, lm_mult_sex_only.rsquared)"
   ]
  },
  {
   "cell_type": "code",
   "execution_count": 26,
   "metadata": {
    "collapsed": false
   },
   "outputs": [
    {
     "data": {
      "text/html": [
       "<table class=\"simpletable\">\n",
       "<caption>OLS Regression Results</caption>\n",
       "<tr>\n",
       "  <th>Dep. Variable:</th>           <td>sl</td>        <th>  R-squared:         </th> <td>   0.493</td>\n",
       "</tr>\n",
       "<tr>\n",
       "  <th>Model:</th>                   <td>OLS</td>       <th>  Adj. R-squared:    </th> <td>   0.472</td>\n",
       "</tr>\n",
       "<tr>\n",
       "  <th>Method:</th>             <td>Least Squares</td>  <th>  F-statistic:       </th> <td>   23.83</td>\n",
       "</tr>\n",
       "<tr>\n",
       "  <th>Date:</th>             <td>Tue, 07 Feb 2017</td> <th>  Prob (F-statistic):</th> <td>5.91e-08</td>\n",
       "</tr>\n",
       "<tr>\n",
       "  <th>Time:</th>                 <td>10:10:17</td>     <th>  Log-Likelihood:    </th> <td> -507.27</td>\n",
       "</tr>\n",
       "<tr>\n",
       "  <th>No. Observations:</th>      <td>    52</td>      <th>  AIC:               </th> <td>   1021.</td>\n",
       "</tr>\n",
       "<tr>\n",
       "  <th>Df Residuals:</th>          <td>    49</td>      <th>  BIC:               </th> <td>   1026.</td>\n",
       "</tr>\n",
       "<tr>\n",
       "  <th>Df Model:</th>              <td>     2</td>      <th>                     </th>     <td> </td>   \n",
       "</tr>\n",
       "<tr>\n",
       "  <th>Covariance Type:</th>      <td>nonrobust</td>    <th>                     </th>     <td> </td>   \n",
       "</tr>\n",
       "</table>\n",
       "<table class=\"simpletable\">\n",
       "<tr>\n",
       "       <td></td>         <th>coef</th>     <th>std err</th>      <th>t</th>      <th>P>|t|</th> <th>[95.0% Conf. Int.]</th> \n",
       "</tr>\n",
       "<tr>\n",
       "  <th>Intercept</th>  <td> 1.578e+04</td> <td> 1438.330</td> <td>   10.973</td> <td> 0.000</td> <td> 1.29e+04  1.87e+04</td>\n",
       "</tr>\n",
       "<tr>\n",
       "  <th>sx[T.male]</th> <td> 2572.5343</td> <td> 1349.082</td> <td>    1.907</td> <td> 0.062</td> <td> -138.548  5283.616</td>\n",
       "</tr>\n",
       "<tr>\n",
       "  <th>yd</th>         <td>  380.6938</td> <td>   59.109</td> <td>    6.440</td> <td> 0.000</td> <td>  261.909   499.479</td>\n",
       "</tr>\n",
       "</table>\n",
       "<table class=\"simpletable\">\n",
       "<tr>\n",
       "  <th>Omnibus:</th>       <td> 3.822</td> <th>  Durbin-Watson:     </th> <td>   1.283</td>\n",
       "</tr>\n",
       "<tr>\n",
       "  <th>Prob(Omnibus):</th> <td> 0.148</td> <th>  Jarque-Bera (JB):  </th> <td>   2.919</td>\n",
       "</tr>\n",
       "<tr>\n",
       "  <th>Skew:</th>          <td> 0.368</td> <th>  Prob(JB):          </th> <td>   0.232</td>\n",
       "</tr>\n",
       "<tr>\n",
       "  <th>Kurtosis:</th>      <td> 3.897</td> <th>  Cond. No.          </th> <td>    56.9</td>\n",
       "</tr>\n",
       "</table>"
      ],
      "text/plain": [
       "<class 'statsmodels.iolib.summary.Summary'>\n",
       "\"\"\"\n",
       "                            OLS Regression Results                            \n",
       "==============================================================================\n",
       "Dep. Variable:                     sl   R-squared:                       0.493\n",
       "Model:                            OLS   Adj. R-squared:                  0.472\n",
       "Method:                 Least Squares   F-statistic:                     23.83\n",
       "Date:                Tue, 07 Feb 2017   Prob (F-statistic):           5.91e-08\n",
       "Time:                        10:10:17   Log-Likelihood:                -507.27\n",
       "No. Observations:                  52   AIC:                             1021.\n",
       "Df Residuals:                      49   BIC:                             1026.\n",
       "Df Model:                           2                                         \n",
       "Covariance Type:            nonrobust                                         \n",
       "==============================================================================\n",
       "                 coef    std err          t      P>|t|      [95.0% Conf. Int.]\n",
       "------------------------------------------------------------------------------\n",
       "Intercept   1.578e+04   1438.330     10.973      0.000      1.29e+04  1.87e+04\n",
       "sx[T.male]  2572.5343   1349.082      1.907      0.062      -138.548  5283.616\n",
       "yd           380.6938     59.109      6.440      0.000       261.909   499.479\n",
       "==============================================================================\n",
       "Omnibus:                        3.822   Durbin-Watson:                   1.283\n",
       "Prob(Omnibus):                  0.148   Jarque-Bera (JB):                2.919\n",
       "Skew:                           0.368   Prob(JB):                        0.232\n",
       "Kurtosis:                       3.897   Cond. No.                         56.9\n",
       "==============================================================================\n",
       "\n",
       "Warnings:\n",
       "[1] Standard Errors assume that the covariance matrix of the errors is correctly specified.\n",
       "\"\"\""
      ]
     },
     "execution_count": 26,
     "metadata": {},
     "output_type": "execute_result"
    }
   ],
   "source": [
    "lm_mult_sex_only.summary()"
   ]
  },
  {
   "cell_type": "code",
   "execution_count": 27,
   "metadata": {
    "collapsed": false
   },
   "outputs": [
    {
     "data": {
      "image/png": "[encoded data removed]",
      "text/plain": [
       "<matplotlib.figure.Figure at 0x117148f90>"
      ]
     },
     "metadata": {},
     "output_type": "display_data"
    }
   ],
   "source": [
    "# Plot the residuals with a center line\n",
    "df['lm_resids'] = df.sl - df.predictions\n",
    "df['lm_mult_resids'] = df.sl - df.mult_preds\n",
    "fig, (ax1, ax2) = plt.subplots(1, 2, sharey=True, figsize=(20, 6))\n",
    "ax1.scatter(df.sl, df.lm_resids)\n",
    "ax1.plot((np.min(df.sl), np.max(df.sl)), (0,0),color='darkblue', lw=2)\n",
    "ax2.scatter(df.sl, df.lm_mult_resids)\n",
    "ax2.plot((np.min(df.sl), np.max(df.sl)), (0,0),color='darkblue', lw=2)\n",
    "plt.show()"
   ]
  },
  {
   "cell_type": "markdown",
   "metadata": {},
   "source": [
    "As shown above, the first model clearly **over predicts** low salaries and **under predicts** higher salaries. Clearly, we're missing something that **explains variation** besides the number of years. The second model has much less systematic error."
   ]
  }
 ],
 "metadata": {
  "anaconda-cloud": {},
  "kernelspec": {
   "display_name": "Python [default]",
   "language": "python",
   "name": "python2"
  },
  "language_info": {
   "codemirror_mode": {
    "name": "ipython",
    "version": 2
   },
   "file_extension": ".py",
   "mimetype": "text/x-python",
   "name": "python",
   "nbconvert_exporter": "python",
   "pygments_lexer": "ipython2",
   "version": "2.7.12"
  }
 },
 "nbformat": 4,
 "nbformat_minor": 0
}
